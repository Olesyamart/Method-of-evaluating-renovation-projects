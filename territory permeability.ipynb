{
 "cells": [
  {
   "cell_type": "code",
   "execution_count": null,
   "metadata": {},
   "outputs": [],
   "source": [
    "# Установка необходимых пакетов\n",
    "!pip install blocksnet ipykernel -q\n",
    "!pip install folium matplotlib mapclassify\n",
    "!pip install osmnx networkx ipykernel -q\n",
    "!pip install mapclassify -q\n",
    "!pip install iduedu\n",
    "!pip install momepy"
   ]
  },
  {
   "cell_type": "code",
   "execution_count": null,
   "metadata": {},
   "outputs": [],
   "source": [
    "# Импорт библиотек\n",
    "import geopandas as gpd\n",
    "import pandas as pd\n",
    "import numpy as np\n",
    "import networkx as nx\n",
    "import momepy\n",
    "from shapely.geometry import Point, Polygon, LineString\n",
    "from blocksnet import BlocksGenerator, BlocksSplitter, AccessibilityProcessor"
   ]
  },
  {
   "cell_type": "code",
   "execution_count": null,
   "metadata": {},
   "outputs": [],
   "source": [
    "# Загрузка данных\n",
    "boundary = ('boundary.geojson')\n",
    "territory= ('boundary.geojson')\n",
    "roads= ('boundary.geojson')\n",
    "roads_inside= ('boundary.geojson')\n",
    "railways = ('boundary.geojson')\n",
    "water = ('boundary.geojson')\n",
    "buildings= ('boundary.geojson')\n"
   ]
  },
  {
   "cell_type": "code",
   "execution_count": null,
   "metadata": {},
   "outputs": [],
   "source": [
    "# Загружаем данные\n",
    "boundary = gpd.read_file(boundary)\n",
    "if boundary.crs != \"EPSG:3857\":\n",
    "      boundary = boundary.to_crs(\"EPSG:3857\")\n",
    "\n",
    "territory = gpd.read_file(territory)\n",
    "if territory.crs != \"EPSG:3857\":\n",
    "      territory = territory.to_crs(\"EPSG:3857\")\n",
    "\n",
    "roads = gpd.read_file(roads)\n",
    "if roads.crs != \"EPSG:3857\":\n",
    "      roads = roads.to_crs(\"EPSG:3857\")\n",
    "\n",
    "\n",
    "roads_inside = gpd.read_file(roads_inside)\n",
    "if roads_inside.crs != \"EPSG:3857\":\n",
    "      roads_inside = roads_inside.to_crs(\"EPSG:3857\")\n",
    "\n",
    "\n",
    "railways = gpd.read_file(railways)\n",
    "if railways.crs != \"EPSG:3857\":\n",
    "      railways = railways.to_crs(\"EPSG:3857\")\n",
    "\n",
    "water = gpd.read_file(water)\n",
    "if water.crs != \"EPSG:3857\":\n",
    "      water = water.to_crs(\"EPSG:3857\")\n",
    "\n",
    "buildings = gpd.read_file(buildings)\n",
    "if buildings.crs != \"EPSG:3857\":\n",
    "      buildings = buildings.to_crs(\"EPSG:3857\")\n"
   ]
  },
  {
   "cell_type": "code",
   "execution_count": null,
   "metadata": {},
   "outputs": [],
   "source": [
    "# Обработка дорог\n",
    "roads = roads[roads.geom_type.isin(['LineString', 'MultiLineString'])]\n",
    "\n",
    "GAP_TOLERANCE = 1\n",
    "\n",
    "def _get_roads(roads):\n",
    "    \"\"\"Обработка и объединение дорожной сети\"\"\"\n",
    "    merged = roads.unary_union\n",
    "    if merged.geom_type == 'MultiLineString':\n",
    "        roads = gpd.GeoDataFrame(geometry=list(merged.geoms), crs=roads.crs)\n",
    "    else:\n",
    "        roads = gpd.GeoDataFrame(geometry=[merged], crs=roads.crs)\n",
    "    \n",
    "    roads = roads.explode(index_parts=False).reset_index(drop=True)\n",
    "    roads.geometry = momepy.close_gaps(roads, GAP_TOLERANCE)\n",
    "    roads = roads[roads.geom_type.isin(['LineString'])]\n",
    "    return roads\n",
    "\n",
    "roads = _get_roads(roads)"
   ]
  },
  {
   "cell_type": "code",
   "execution_count": null,
   "metadata": {},
   "outputs": [],
   "source": [
    "# Генерация блоков\n",
    "bg = BlocksGenerator(boundary, roads, railways)\n",
    "blocks = bg.run()"
   ]
  },
  {
   "cell_type": "code",
   "execution_count": null,
   "metadata": {},
   "outputs": [],
   "source": [
    "# Обработка зданий\n",
    "buildings.geometry = buildings.representative_point()"
   ]
  },
  {
   "cell_type": "code",
   "execution_count": null,
   "metadata": {},
   "outputs": [],
   "source": [
    "# Разделение блоков по зданиям\n",
    "bs = BlocksSplitter(blocks, buildings)\n",
    "splitted_blocks = bs.run()"
   ]
  },
  {
   "cell_type": "code",
   "execution_count": null,
   "metadata": {},
   "outputs": [],
   "source": [
    "print(f\"Количество блоков до и после разделения: {len(blocks)}, {len(splitted_blocks)}\")"
   ]
  },
  {
   "cell_type": "code",
   "execution_count": null,
   "metadata": {},
   "outputs": [],
   "source": [
    "blocks.plot(linewidth=0.1, figsize=(5,5)).set_axis_off()\n",
    "splitted_blocks.plot(linewidth=0.1, figsize=(5,5)).set_axis_off()\n",
    "splitted_blocks.to_file('blocks.geojson')"
   ]
  },
  {
   "cell_type": "code",
   "execution_count": null,
   "metadata": {},
   "outputs": [],
   "source": [
    "# Анализ доступности\n",
    "CRS = 32636\n",
    "SPEED_M_MIN = 1000\n",
    "\n",
    "def _roads_to_graph(roads):\n",
    "    \"\"\"Преобразование дорог в граф\"\"\"\n",
    "    graph = momepy.gdf_to_nx(roads)\n",
    "    graph.graph['crs'] = roads.crs.to_epsg()\n",
    "    graph = nx.DiGraph(graph)\n",
    "    \n",
    "    for _, _, data in graph.edges(data=True):\n",
    "        geometry = data['geometry']\n",
    "        data['time_min'] = geometry.length / SPEED_M_MIN\n",
    "        \n",
    "    for n, data in graph.nodes(data=True):\n",
    "        graph.nodes[n]['x'] = n[0]  # X координата\n",
    "        graph.nodes[n]['y'] = n[1]  # Y координата\n",
    "\n",
    "    return graph\n",
    "\n",
    "roads_G = _roads_to_graph(roads)\n",
    "AccessibilityProcessor._fix_graph(roads_G)"
   ]
  },
  {
   "cell_type": "code",
   "execution_count": null,
   "metadata": {},
   "outputs": [],
   "source": [
    "# Расчет матрицы доступности\n",
    "ap = AccessibilityProcessor(blocks)\n",
    "acc_mx = ap.get_accessibility_matrix(roads_G)\n",
    "acc_mx.head()  # вывод первых 5 строк матрицы доступности"
   ]
  },
  {
   "cell_type": "code",
   "execution_count": null,
   "metadata": {},
   "outputs": [],
   "source": [
    "from blocksnet.models import City\n",
    "from blocksnet import Accessibility, Connectivity\n",
    "\n",
    "blocks['land_use'] = None\n",
    "\n",
    "city = City(\n",
    "    blocks=blocks,\n",
    "    acc_mx=acc_mx\n",
    ")\n",
    "\n",
    "connectivity = Connectivity(city_model=city)\n",
    "connectivity_result = connectivity.calculate()\n",
    "connectivity_result"
   ]
  },
  {
   "cell_type": "code",
   "execution_count": null,
   "metadata": {},
   "outputs": [],
   "source": [
    "connectivity_result.explore()"
   ]
  },
  {
   "cell_type": "code",
   "execution_count": null,
   "metadata": {},
   "outputs": [],
   "source": [
    "from blocksnet.models import City\n",
    "blocks['land_use'] = None\n",
    "city = City(\n",
    "    blocks=blocks,\n",
    "    acc_mx=acc_mx\n",
    ")"
   ]
  },
  {
   "cell_type": "markdown",
   "metadata": {},
   "source": [
    "Доступность"
   ]
  },
  {
   "cell_type": "code",
   "execution_count": null,
   "metadata": {},
   "outputs": [],
   "source": [
    "from blocksnet import Accessibility, Connectivity\n",
    "accessibility = Accessibility(city_model=city)\n",
    "block = city[159] # квартал от которого будем считать доступность\n",
    "result = accessibility.calculate(block)\n",
    "#Accessibility.plot(result, linewidth=0.9, figsize=(30,15))\n"
   ]
  },
  {
   "cell_type": "code",
   "execution_count": null,
   "metadata": {},
   "outputs": [],
   "source": [
    "block"
   ]
  },
  {
   "cell_type": "code",
   "execution_count": null,
   "metadata": {},
   "outputs": [],
   "source": [
    "result.plot(column='accessibility_from', legend=True, figsize=(10,10), cmap='RdYlGn_r').set_axis_off()\n",
    "result.plot(column='accessibility_to', legend=True, figsize=(5,5), cmap='RdYlGn_r').set_axis_off()"
   ]
  },
  {
   "cell_type": "code",
   "execution_count": null,
   "metadata": {},
   "outputs": [],
   "source": [
    "# Пример DataFrame с кварталами и значениями доступности\n",
    "data = result\n",
    "\n",
    "# Создаем DataFrame\n",
    "df = pd.DataFrame(data)\n",
    "\n",
    "# Рассчитываем среднее и медиану для каждого атрибута\n",
    "mean_to = df['accessibility_to'].mean()\n",
    "median_to = df['accessibility_to'].median()\n",
    "\n",
    "mean_from = df['accessibility_from'].mean()\n",
    "median_from = df['accessibility_from'].median()\n",
    "\n",
    "# Добавляем столбцы с нормализованными значениями\n",
    "df['accessibility_to_normalized'] = (df['accessibility_to'] - df['accessibility_to'].min()) / (df['accessibility_to'].max() - df['accessibility_to'].min())\n",
    "df['accessibility_from_normalized'] = (df['accessibility_from'] - df['accessibility_from'].min()) / (df['accessibility_from'].max() - df['accessibility_from'].min())\n",
    "\n",
    "# Выводим результаты\n",
    "print(f\"Среднее значение доступности 'to': {mean_to:.2f}\")\n",
    "print(f\"Медиана доступности 'to': {median_to:.2f}\")\n",
    "print(f\"Среднее значение доступности 'from': {mean_from:.2f}\")\n",
    "print(f\"Медиана доступности 'from': {median_from:.2f}\")"
   ]
  },
  {
   "cell_type": "markdown",
   "metadata": {},
   "source": [
    "Связанность"
   ]
  },
  {
   "cell_type": "code",
   "execution_count": null,
   "metadata": {},
   "outputs": [],
   "source": [
    "connectivity = Connectivity(city_model=city)\n",
    "connectivity_result = connectivity.calculate()\n",
    "Connectivity.plot(connectivity_result, linewidth=0.9, figsize=(10,10))"
   ]
  },
  {
   "cell_type": "code",
   "execution_count": null,
   "metadata": {},
   "outputs": [],
   "source": [
    "dff = pd.DataFrame(connectivity_result)\n",
    "stats = dff['connectivity'].agg(['mean', 'median'])\n",
    "mean_to = dff['connectivity'].mean()\n",
    "median_to = dff['connectivity'].median()\n",
    "# Добавляем столбцы с нормализованными значениями\n",
    "dff['connectivity_to_normalized'] = (dff['connectivity'] - dff['connectivity'].min()) / (dff['connectivity'].max() - dff['connectivity'].min())\n",
    "\n",
    "# Выводим результаты\n",
    "print(f\"Среднее значение связанности: {mean_to:.2f}\")\n",
    "print(f\"Медиана связанности: {median_to:.2f}\")"
   ]
  },
  {
   "cell_type": "markdown",
   "metadata": {},
   "source": [
    "Площадь кварталов"
   ]
  },
  {
   "cell_type": "markdown",
   "metadata": {},
   "source": [
    " "
   ]
  },
  {
   "cell_type": "code",
   "execution_count": null,
   "metadata": {},
   "outputs": [],
   "source": [
    "blocks_area = gpd.clip(blocks, territory)"
   ]
  },
  {
   "cell_type": "code",
   "execution_count": null,
   "metadata": {},
   "outputs": [],
   "source": [
    "if blocks_area.crs != \"EPSG:3857\":\n",
    "      blocks_area = blocks_area.to_crs(\"EPSG:3857\")"
   ]
  },
  {
   "cell_type": "code",
   "execution_count": null,
   "metadata": {},
   "outputs": [],
   "source": [
    "def calculate_average_block_size(blocks_area):\n",
    "\n",
    "    blocks_area['block_size'] = blocks_area.geometry.area\n",
    "    filtered_blocks = blocks_area[blocks_area['block_size'] >= 1000]\n",
    "    if filtered_blocks.empty:\n",
    "        raise ValueError(\"Нет кварталов с площадью >= 1000 м² для расчета.\")\n",
    "    return filtered_blocks['block_size'].mean()\n",
    "\n",
    "try:\n",
    "    average_block_size = calculate_average_block_size(blocks_area)\n",
    "    average_block_size_ha = average_block_size / 10_000\n",
    "    print(f\"Средняя площадь квартала: {average_block_size:.2f} м² ({average_block_size_ha:.2f} га)\")\n",
    "except ValueError as e:\n",
    "    print(e)"
   ]
  },
  {
   "cell_type": "markdown",
   "metadata": {},
   "source": [
    "Плотность УДС"
   ]
  },
  {
   "cell_type": "code",
   "execution_count": null,
   "metadata": {},
   "outputs": [],
   "source": [
    "def street_density(roads_inside, territory):\n",
    "    \"\"\"Плотность улиц (км/км²)\"\"\"\n",
    "    roads_inside = roads_inside.to_crs(territory.crs) if roads_inside.crs != territory.crs else roads_inside\n",
    "    return (roads_inside.geometry.length.sum() / 1000) / (territory.geometry.area.sum() / 1e6)\n",
    "\n",
    "# Пример вызова\n",
    "print(f\"Плотность удс: {street_density(roads_inside, territory):.2f} км/км²\")"
   ]
  }
 ],
 "metadata": {
  "kernelspec": {
   "display_name": "Python 3",
   "language": "python",
   "name": "python3"
  },
  "language_info": {
   "codemirror_mode": {
    "name": "ipython",
    "version": 3
   },
   "file_extension": ".py",
   "mimetype": "text/x-python",
   "name": "python",
   "nbconvert_exporter": "python",
   "pygments_lexer": "ipython3",
   "version": "3.11.9"
  }
 },
 "nbformat": 4,
 "nbformat_minor": 2
}
