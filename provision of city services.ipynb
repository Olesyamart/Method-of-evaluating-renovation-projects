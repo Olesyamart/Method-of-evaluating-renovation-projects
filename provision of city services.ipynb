{
 "cells": [
  {
   "cell_type": "markdown",
   "metadata": {},
   "source": [
    "Обеспеченность городскими сервисами"
   ]
  },
  {
   "cell_type": "code",
   "execution_count": null,
   "metadata": {},
   "outputs": [],
   "source": [
    "!pip install objectnat folium matplotlib mapclassify"
   ]
  },
  {
   "cell_type": "code",
   "execution_count": null,
   "metadata": {},
   "outputs": [],
   "source": [
    "!pip install momepy"
   ]
  },
  {
   "cell_type": "code",
   "execution_count": null,
   "metadata": {},
   "outputs": [],
   "source": [
    "from objectnat import get_adj_matrix_gdf_to_gdf, get_intermodal_graph\n",
    "import geopandas as gpd\n",
    "import pandas as pd\n",
    "from shapely.ops import unary_union\n",
    "from objectnat import get_service_provision"
   ]
  },
  {
   "cell_type": "code",
   "execution_count": null,
   "metadata": {},
   "outputs": [],
   "source": [
    "import momepy\n",
    "import networkx as nx\n",
    "import osmnx as ox"
   ]
  },
  {
   "cell_type": "code",
   "execution_count": null,
   "metadata": {},
   "outputs": [],
   "source": [
    "# Укажи корректные пути к файлам GeoJSON\n",
    "buildings = ('buildings.geojson')\n",
    "\n",
    "# Загружаем данные\n",
    "buildings = gpd.read_file(buildings)\n",
    "if buildings.crs != \"EPSG:3857\":\n",
    "      buildings = buildings.to_crs(\"EPSG:3857\")"
   ]
  },
  {
   "cell_type": "code",
   "execution_count": null,
   "metadata": {},
   "outputs": [],
   "source": [
    "# Укажи корректные пути к файлам GeoJSON\n",
    "roads = ('roads.geojson')\n",
    "\n",
    "# Загружаем данные\n",
    "roads = gpd.read_file(roads)\n",
    "if roads.crs != \"EPSG:3857\":\n",
    "      roads = roads.to_crs(\"EPSG:3857\")"
   ]
  },
  {
   "cell_type": "code",
   "execution_count": null,
   "metadata": {},
   "outputs": [],
   "source": [
    "# Укажи корректные пути к файлам GeoJSON\n",
    "services = ('service.geojson')\n",
    "\n",
    "# Загружаем данные\n",
    "services = gpd.read_file(services)\n",
    "if services.crs != \"EPSG:3857\":\n",
    "      services = services.to_crs(\"EPSG:3857\")"
   ]
  },
  {
   "cell_type": "code",
   "execution_count": null,
   "metadata": {},
   "outputs": [],
   "source": [
    "buildings = buildings[buildings[\"is_living\"] == True].copy() #Оставляем только жилые здания"
   ]
  },
  {
   "cell_type": "code",
   "execution_count": null,
   "metadata": {},
   "outputs": [],
   "source": [
    "buildings ['building_area'] = buildings['building:levels'] * buildings['footprint_area']"
   ]
  },
  {
   "cell_type": "code",
   "execution_count": null,
   "metadata": {},
   "outputs": [],
   "source": [
    "buildings['living_area'] = buildings['building_area'] * 0.7"
   ]
  },
  {
   "cell_type": "code",
   "execution_count": null,
   "metadata": {},
   "outputs": [],
   "source": [
    "buildings['population'] = buildings['living_area']/20 "
   ]
  },
  {
   "cell_type": "code",
   "execution_count": null,
   "metadata": {},
   "outputs": [],
   "source": [
    "buildings[\"demand\"] = buildings[\"population\"] / 1000 * 8 #спрос на сервис ()"
   ]
  },
  {
   "cell_type": "code",
   "execution_count": null,
   "metadata": {},
   "outputs": [],
   "source": [
    "polygon = unary_union([buildings.geometry.to_list() + services.geometry.to_list()]).convex_hull.buffer(\n",
    "    0.001) #Получаем полигон, опоясывающий геометрии зданий и сервисов"
   ]
  },
  {
   "cell_type": "code",
   "execution_count": null,
   "metadata": {},
   "outputs": [],
   "source": [
    "# Обработка дорог\n",
    "roads = roads[roads.geom_type.isin(['LineString', 'MultiLineString'])]\n",
    "\n",
    "GAP_TOLERANCE = 1\n",
    "\n",
    "def _get_roads(roads):\n",
    "    \"\"\"Обработка и объединение дорожной сети\"\"\"\n",
    "    merged = roads.unary_union\n",
    "    if merged.geom_type == 'MultiLineString':\n",
    "        roads = gpd.GeoDataFrame(geometry=list(merged.geoms), crs=roads.crs)\n",
    "    else:\n",
    "        roads = gpd.GeoDataFrame(geometry=[merged], crs=roads.crs)\n",
    "    \n",
    "    roads = roads.explode(index_parts=False).reset_index(drop=True)\n",
    "    roads.geometry = momepy.close_gaps(roads, GAP_TOLERANCE)\n",
    "    roads = roads[roads.geom_type.isin(['LineString'])]\n",
    "    return roads\n",
    "\n",
    "roads = _get_roads(roads)"
   ]
  },
  {
   "cell_type": "code",
   "execution_count": null,
   "metadata": {},
   "outputs": [],
   "source": [
    "CRS = 32636\n",
    "SPEED_M_MIN = 1000\n",
    "\n",
    "def _roads_to_graph(roads):\n",
    "    \"\"\"Преобразование дорог в граф\"\"\"\n",
    "    graph = momepy.gdf_to_nx(roads)\n",
    "    graph.graph['crs'] = roads.crs.to_epsg()\n",
    "    graph = nx.DiGraph(graph)\n",
    "    \n",
    "    for _, _, data in graph.edges(data=True):\n",
    "        geometry = data['geometry']\n",
    "        data['time_min'] = geometry.length / SPEED_M_MIN\n",
    "        \n",
    "    for n, data in graph.nodes(data=True):\n",
    "        graph.nodes[n]['x'] = n[0]  # X координата\n",
    "        graph.nodes[n]['y'] = n[1]  # Y координата\n",
    "\n",
    "    return graph\n",
    "\n",
    "roads_G = _roads_to_graph(roads)"
   ]
  },
  {
   "cell_type": "code",
   "execution_count": null,
   "metadata": {},
   "outputs": [],
   "source": [
    "G_intermodal = roads_G"
   ]
  },
  {
   "cell_type": "code",
   "execution_count": null,
   "metadata": {},
   "outputs": [],
   "source": [
    "#G_intermodal = get_intermodal_graph(polygon=polygon, clip_by_bounds=True) #скачиваем граф#"
   ]
  },
  {
   "cell_type": "code",
   "execution_count": null,
   "metadata": {},
   "outputs": [],
   "source": [
    "buildings.to_crs(G_intermodal.graph['crs'], inplace=True)\n",
    "services.to_crs(G_intermodal.graph['crs'], inplace=True) "
   ]
  },
  {
   "cell_type": "code",
   "execution_count": null,
   "metadata": {},
   "outputs": [],
   "source": [
    "G_intermodal = nx.convert_node_labels_to_integers(G_intermodal)"
   ]
  },
  {
   "cell_type": "code",
   "execution_count": null,
   "metadata": {},
   "outputs": [],
   "source": [
    "matrix: pd.DataFrame = get_adj_matrix_gdf_to_gdf(gdf_from=buildings,\n",
    "                                                 gdf_to=services,\n",
    "                                                 nx_graph=G_intermodal,\n",
    "                                                 weight=\"time_min\",\n",
    "                                                 threshold=15\n",
    "                                                 ) #строим матрицу доступности от сервисов до зданий"
   ]
  },
  {
   "cell_type": "code",
   "execution_count": null,
   "metadata": {},
   "outputs": [],
   "source": [
    "buildings.dropna(subset=\"demand\", inplace=True) #На всякий случай дропаем наны из демандов, мало ли затисались"
   ]
  },
  {
   "cell_type": "code",
   "execution_count": null,
   "metadata": {},
   "outputs": [],
   "source": [
    "matrix.index = matrix.index.astype(int)\n",
    "services.index = services.index.astype(int)\n",
    "buildings.index = buildings.index.astype(int)\n",
    "matrix.columns = matrix.columns.astype(int)\n",
    "buildings[\"demand\"] = buildings[\"demand\"].astype(int)\n",
    "services[\"capacity\"] = services[\"capacity\"].astype(int) #Приводим все нужные колонки, индексы и прочее к инту на всякий случай"
   ]
  },
  {
   "cell_type": "code",
   "execution_count": null,
   "metadata": {},
   "outputs": [],
   "source": [
    "build_prov, services_prov, links_prov = get_service_provision(\n",
    "    buildings=buildings,\n",
    "    services=services,\n",
    "    adjacency_matrix=matrix,\n",
    "    threshold=15,\n",
    ") #Считаем обеспеченность treshold - нормативная доступность в минутах"
   ]
  },
  {
   "cell_type": "code",
   "execution_count": null,
   "metadata": {},
   "outputs": [],
   "source": [
    "build_prov.explore(column=\"provison_value\") #смотрим что получилось"
   ]
  },
  {
   "cell_type": "code",
   "execution_count": null,
   "metadata": {},
   "outputs": [],
   "source": [
    "build_prov"
   ]
  },
  {
   "cell_type": "code",
   "execution_count": null,
   "metadata": {},
   "outputs": [],
   "source": [
    "import pandas as pd\n",
    "\n",
    "# Проверяем, что атрибут 'provison_value' существует в GeoDataFrame\n",
    "if 'provison_value' not in build_prov.columns:\n",
    "    raise ValueError(\"GeoDataFrame 'build_prov' must contain a 'provison_value' column.\")\n",
    "\n",
    "# Вычисляем среднее значение и медиану\n",
    "mean_provision = build_prov['provison_value'].mean()\n",
    "median_provision = build_prov['provison_value'].median()\n",
    "\n",
    "# Выводим результаты\n",
    "print(f\"Среднее значение обеспечения: {mean_provision:.2f}\")\n",
    "print(f\"Медиана обеспечения: {median_provision:.2f}\")\n"
   ]
  },
  {
   "cell_type": "code",
   "execution_count": null,
   "metadata": {},
   "outputs": [],
   "source": [
    "!pip install folium matplotlib mapclassify"
   ]
  },
  {
   "cell_type": "code",
   "execution_count": null,
   "metadata": {},
   "outputs": [],
   "source": [
    "build_prov.to_file(\"provision.geojson\") #"
   ]
  }
 ],
 "metadata": {
  "kernelspec": {
   "display_name": "Python 3",
   "language": "python",
   "name": "python3"
  },
  "language_info": {
   "codemirror_mode": {
    "name": "ipython",
    "version": 3
   },
   "file_extension": ".py",
   "mimetype": "text/x-python",
   "name": "python",
   "nbconvert_exporter": "python",
   "pygments_lexer": "ipython3",
   "version": "3.11.9"
  }
 },
 "nbformat": 4,
 "nbformat_minor": 2
}
