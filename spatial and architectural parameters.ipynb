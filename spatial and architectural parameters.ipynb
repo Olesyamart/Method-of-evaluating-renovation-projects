{
 "cells": [
  {
   "cell_type": "markdown",
   "metadata": {},
   "source": [
    "Плотность населения"
   ]
  },
  {
   "cell_type": "code",
   "execution_count": null,
   "metadata": {},
   "outputs": [],
   "source": [
    "import geopandas as gpd"
   ]
  },
  {
   "cell_type": "code",
   "execution_count": null,
   "metadata": {},
   "outputs": [],
   "source": [
    "# Загрузка данных\n",
    "boundary = ('boundary.geojson')\n",
    "territory= ('territory.geojson')\n",
    "buildings= ('boundary.geojson')\n",
    "green = ('boundary.geojson')"
   ]
  },
  {
   "cell_type": "code",
   "execution_count": null,
   "metadata": {},
   "outputs": [],
   "source": [
    "# Загружаем данные\n",
    "boundary = gpd.read_file(boundary)\n",
    "if boundary.crs != \"EPSG:3857\":\n",
    "      boundary = boundary.to_crs(\"EPSG:3857\")\n",
    "\n",
    "territory = gpd.read_file(territory)\n",
    "if territory.crs != \"EPSG:3857\":\n",
    "      territory = territory.to_crs(\"EPSG:3857\")\n",
    "\n",
    "buildings = gpd.read_file(buildings)\n",
    "if buildings.crs != \"EPSG:3857\":\n",
    "      buildings = buildings.to_crs(\"EPSG:3857\")\n",
    "\n",
    "green = gpd.read_file(green)\n",
    "if green.crs != \"EPSG:3857\":\n",
    "      green = green.to_crs(\"EPSG:3857\")"
   ]
  },
  {
   "cell_type": "markdown",
   "metadata": {},
   "source": [
    "Плотность населения"
   ]
  },
  {
   "cell_type": "code",
   "execution_count": null,
   "metadata": {},
   "outputs": [],
   "source": [
    "buildings['population'] = buildings['living']/20 "
   ]
  },
  {
   "cell_type": "code",
   "execution_count": null,
   "metadata": {},
   "outputs": [],
   "source": [
    "def population_density(buildings, territory):\n",
    "    \"\"\"Рассчитывает плотность населения (чел/га) по атрибуту population\"\"\"\n",
    "    return buildings['population'].sum() / (territory / 10000)\n",
    "\n",
    "# Использование:\n",
    "density = population_density(buildings, territory.geometry.area.sum())\n",
    "print(f\"Плотность населения: {density:,.2f} чел/га\")"
   ]
  },
  {
   "cell_type": "markdown",
   "metadata": {},
   "source": [
    "Плотность застройки"
   ]
  },
  {
   "cell_type": "code",
   "execution_count": null,
   "metadata": {},
   "outputs": [],
   "source": [
    "def floor_area_density(buildings, territory):\n",
    "    \"\"\"Плотность поэтажной площади (м²/га)\"\"\"\n",
    "    return (buildings.geometry.area * buildings['building:levels']).sum() / (territory / 10000)\n",
    "\n",
    "# Использование:\n",
    "density = floor_area_density(buildings, territory.geometry.area.sum())\n",
    "print(f\"Плотность: {density:,.2f} м²/га\")"
   ]
  },
  {
   "cell_type": "markdown",
   "metadata": {},
   "source": [
    "Этажность застройки"
   ]
  },
  {
   "cell_type": "code",
   "execution_count": null,
   "metadata": {},
   "outputs": [],
   "source": [
    "def avg_living_height(buildings):\n",
    "    \"\"\"Средняя этажность жилых зданий\"\"\"\n",
    "    living = buildings[(buildings['is_living'])]\n",
    "    return living['building:levels'].mean()\n",
    "\n",
    "\n",
    "print(f\"Средняя высота жилых зданий: {avg_living_height(buildings):.1f} эт.\")\n"
   ]
  },
  {
   "cell_type": "markdown",
   "metadata": {},
   "source": [
    "Площадь зеленых зон"
   ]
  },
  {
   "cell_type": "code",
   "execution_count": null,
   "metadata": {},
   "outputs": [],
   "source": [
    "import geopandas as gpd\n",
    "\n",
    "def calculate_green_ratio(green, boundary):\n",
    "\n",
    "    green_union = green.unary_union\n",
    "    boundary_polygon = boundary.unary_union\n",
    "    green_area_within_boundary = green_union.intersection(boundary_polygon).area\n",
    "    boundary_area = boundary_polygon.area\n",
    "    green_ratio = green_area_within_boundary / boundary_area\n",
    "\n",
    "    return green_ratio\n",
    "\n",
    "green_ratio = calculate_green_ratio(green, boundary)\n",
    "print(f\"Доля озеленения: {green_ratio:.2%}\")\n"
   ]
  }
 ],
 "metadata": {
  "kernelspec": {
   "display_name": "Python 3",
   "language": "python",
   "name": "python3"
  },
  "language_info": {
   "codemirror_mode": {
    "name": "ipython",
    "version": 3
   },
   "file_extension": ".py",
   "mimetype": "text/x-python",
   "name": "python",
   "nbconvert_exporter": "python",
   "pygments_lexer": "ipython3",
   "version": "3.11.9"
  }
 },
 "nbformat": 4,
 "nbformat_minor": 2
}
