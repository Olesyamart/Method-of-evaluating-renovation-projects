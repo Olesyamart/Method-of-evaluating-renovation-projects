{
 "cells": [
  {
   "cell_type": "markdown",
   "metadata": {},
   "source": [
    "Третий блок"
   ]
  },
  {
   "cell_type": "markdown",
   "metadata": {},
   "source": [
    "Плотность населения"
   ]
  },
  {
   "cell_type": "code",
   "execution_count": 1,
   "metadata": {},
   "outputs": [],
   "source": [
    "import geopandas as gpd"
   ]
  },
  {
   "cell_type": "code",
   "execution_count": 13,
   "metadata": {},
   "outputs": [],
   "source": [
    "# Загрузка данных\n",
    "boundary = r'D:\\ИТМО 2\\НИР 3\\dath\\data_path3.1\\boundary.geojson'\n",
    "territory= r'D:\\ИТМО 2\\НИР 3\\dath\\data_path3.1\\territory.geojson'\n",
    "roads= r'D:\\ИТМО 2\\НИР 3\\dath\\data_path3.1\\roads.geojson'\n",
    "#railways = r'D:\\ИТМО 2\\НИР 3\\dath\\data_path3.1\\railways.geojson'\n",
    "water = r'D:\\ИТМО 2\\НИР 3\\dath\\data_path3.1\\water.geojson'\n",
    "buildings= r'D:\\ИТМО 2\\НИР 3\\dath\\data_path3.2\\buildings_one.geojson'\n",
    "green = r'D:\\ИТМО 2\\НИР 3\\dath\\data_path3.2\\green.geojson'"
   ]
  },
  {
   "cell_type": "code",
   "execution_count": 14,
   "metadata": {},
   "outputs": [],
   "source": [
    "# Загружаем данные\n",
    "boundary = gpd.read_file(boundary)\n",
    "if boundary.crs != \"EPSG:3857\":\n",
    "      boundary = boundary.to_crs(\"EPSG:3857\")\n",
    "\n",
    "territory = gpd.read_file(territory)\n",
    "if territory.crs != \"EPSG:3857\":\n",
    "      territory = territory.to_crs(\"EPSG:3857\")\n",
    "\n",
    "roads = gpd.read_file(roads)\n",
    "if roads.crs != \"EPSG:3857\":\n",
    "      roads = roads.to_crs(\"EPSG:3857\")\n",
    "\n",
    "#railways = gpd.read_file(railways)\n",
    "#if railways.crs != \"EPSG:3857\":\n",
    "      #railways = railways.to_crs(\"EPSG:3857\")\n",
    "\n",
    "water = gpd.read_file(water)\n",
    "if water.crs != \"EPSG:3857\":\n",
    "      water = water.to_crs(\"EPSG:3857\")\n",
    "\n",
    "buildings = gpd.read_file(buildings)\n",
    "if buildings.crs != \"EPSG:3857\":\n",
    "      buildings = buildings.to_crs(\"EPSG:3857\")\n",
    "\n",
    "green = gpd.read_file(green)\n",
    "if green.crs != \"EPSG:3857\":\n",
    "      green = green.to_crs(\"EPSG:3857\")"
   ]
  },
  {
   "cell_type": "markdown",
   "metadata": {},
   "source": [
    "Население"
   ]
  },
  {
   "cell_type": "code",
   "execution_count": 9,
   "metadata": {},
   "outputs": [
    {
     "data": {
      "text/html": [
       "<div>\n",
       "<style scoped>\n",
       "    .dataframe tbody tr th:only-of-type {\n",
       "        vertical-align: middle;\n",
       "    }\n",
       "\n",
       "    .dataframe tbody tr th {\n",
       "        vertical-align: top;\n",
       "    }\n",
       "\n",
       "    .dataframe thead th {\n",
       "        text-align: right;\n",
       "    }\n",
       "</style>\n",
       "<table border=\"1\" class=\"dataframe\">\n",
       "  <thead>\n",
       "    <tr style=\"text-align: right;\">\n",
       "      <th></th>\n",
       "      <th>is_living</th>\n",
       "      <th>building</th>\n",
       "      <th>building:levels</th>\n",
       "      <th>build_floor_area</th>\n",
       "      <th>number_of_floors</th>\n",
       "      <th>living_area</th>\n",
       "      <th>footprint_area</th>\n",
       "      <th>geometry</th>\n",
       "      <th>area</th>\n",
       "    </tr>\n",
       "  </thead>\n",
       "  <tbody>\n",
       "    <tr>\n",
       "      <th>0</th>\n",
       "      <td>True</td>\n",
       "      <td>residential</td>\n",
       "      <td>14</td>\n",
       "      <td>None</td>\n",
       "      <td>14</td>\n",
       "      <td>14817.5732421875</td>\n",
       "      <td>1117</td>\n",
       "      <td>MULTIPOLYGON (((3367820.245 8389989.194, 33678...</td>\n",
       "      <td>4443.117351</td>\n",
       "    </tr>\n",
       "    <tr>\n",
       "      <th>1</th>\n",
       "      <td>True</td>\n",
       "      <td>residential</td>\n",
       "      <td>14</td>\n",
       "      <td>None</td>\n",
       "      <td>14</td>\n",
       "      <td>14817.5732421875</td>\n",
       "      <td>2583</td>\n",
       "      <td>MULTIPOLYGON (((3367840.104 8389857.367, 33680...</td>\n",
       "      <td>10271.230280</td>\n",
       "    </tr>\n",
       "    <tr>\n",
       "      <th>2</th>\n",
       "      <td>True</td>\n",
       "      <td>residential</td>\n",
       "      <td>14</td>\n",
       "      <td>None</td>\n",
       "      <td>14</td>\n",
       "      <td>14817.5732421875</td>\n",
       "      <td>1392</td>\n",
       "      <td>MULTIPOLYGON (((3367665.956 8389958.978, 33677...</td>\n",
       "      <td>5533.242642</td>\n",
       "    </tr>\n",
       "    <tr>\n",
       "      <th>3</th>\n",
       "      <td>True</td>\n",
       "      <td>residential</td>\n",
       "      <td>14</td>\n",
       "      <td>None</td>\n",
       "      <td>14</td>\n",
       "      <td>18910.814453125</td>\n",
       "      <td>2880</td>\n",
       "      <td>MULTIPOLYGON (((3367716.339 8390045.314, 33678...</td>\n",
       "      <td>11452.761905</td>\n",
       "    </tr>\n",
       "  </tbody>\n",
       "</table>\n",
       "</div>"
      ],
      "text/plain": [
       "   is_living     building  building:levels build_floor_area number_of_floors  \\\n",
       "0       True  residential               14             None               14   \n",
       "1       True  residential               14             None               14   \n",
       "2       True  residential               14             None               14   \n",
       "3       True  residential               14             None               14   \n",
       "\n",
       "        living_area  footprint_area  \\\n",
       "0  14817.5732421875            1117   \n",
       "1  14817.5732421875            2583   \n",
       "2  14817.5732421875            1392   \n",
       "3   18910.814453125            2880   \n",
       "\n",
       "                                            geometry          area  \n",
       "0  MULTIPOLYGON (((3367820.245 8389989.194, 33678...   4443.117351  \n",
       "1  MULTIPOLYGON (((3367840.104 8389857.367, 33680...  10271.230280  \n",
       "2  MULTIPOLYGON (((3367665.956 8389958.978, 33677...   5533.242642  \n",
       "3  MULTIPOLYGON (((3367716.339 8390045.314, 33678...  11452.761905  "
      ]
     },
     "execution_count": 9,
     "metadata": {},
     "output_type": "execute_result"
    }
   ],
   "source": [
    "buildings"
   ]
  },
  {
   "cell_type": "code",
   "execution_count": 16,
   "metadata": {},
   "outputs": [],
   "source": [
    "buildings['population'] = buildings['living']/20 "
   ]
  },
  {
   "cell_type": "markdown",
   "metadata": {},
   "source": [
    "поставить другой бондари"
   ]
  },
  {
   "cell_type": "code",
   "execution_count": null,
   "metadata": {},
   "outputs": [],
   "source": [
    "#territory.explore()"
   ]
  },
  {
   "cell_type": "code",
   "execution_count": 17,
   "metadata": {},
   "outputs": [
    {
     "name": "stdout",
     "output_type": "stream",
     "text": [
      "Плотность населения: 247.06 чел/га\n"
     ]
    }
   ],
   "source": [
    "def population_density(buildings, territory):\n",
    "    \"\"\"Рассчитывает плотность населения (чел/га) по атрибуту population\"\"\"\n",
    "    return buildings['population'].sum() / (territory / 10000)\n",
    "\n",
    "# Использование:\n",
    "density = population_density(buildings, territory.geometry.area.sum())\n",
    "print(f\"Плотность населения: {density:,.2f} чел/га\")"
   ]
  },
  {
   "cell_type": "markdown",
   "metadata": {},
   "source": [
    "Плотность застройки"
   ]
  },
  {
   "cell_type": "code",
   "execution_count": 5,
   "metadata": {},
   "outputs": [
    {
     "name": "stdout",
     "output_type": "stream",
     "text": [
      "Плотность: 34,607.77 м²/га\n"
     ]
    }
   ],
   "source": [
    "def floor_area_density(buildings, territory):\n",
    "    \"\"\"Плотность поэтажной площади (м²/га)\"\"\"\n",
    "    return (buildings.geometry.area * buildings['building:levels']).sum() / (territory / 10000)\n",
    "\n",
    "# Использование:\n",
    "density = floor_area_density(buildings, territory.geometry.area.sum())\n",
    "print(f\"Плотность: {density:,.2f} м²/га\")"
   ]
  },
  {
   "cell_type": "markdown",
   "metadata": {},
   "source": [
    "Этажность застройки"
   ]
  },
  {
   "cell_type": "code",
   "execution_count": 6,
   "metadata": {},
   "outputs": [
    {
     "name": "stdout",
     "output_type": "stream",
     "text": [
      "Средняя высота жилых зданий: 14.0 эт.\n"
     ]
    }
   ],
   "source": [
    "def avg_living_height(buildings):\n",
    "    \"\"\"Средняя этажность жилых зданий\"\"\"\n",
    "    living = buildings[(buildings['is_living'])]\n",
    "    return living['building:levels'].mean()\n",
    "\n",
    "\n",
    "print(f\"Средняя высота жилых зданий: {avg_living_height(buildings):.1f} эт.\")\n"
   ]
  },
  {
   "cell_type": "code",
   "execution_count": 7,
   "metadata": {},
   "outputs": [
    {
     "name": "stdout",
     "output_type": "stream",
     "text": [
      "Средняя высота зданий: 14.00 этажей\n"
     ]
    }
   ],
   "source": [
    "def calculate_average_building_height(buildings):\n",
    "\n",
    "    buildings['area'] = buildings.geometry.area\n",
    "\n",
    "    filtered_buildings = buildings[buildings['area'] >= 400]\n",
    "\n",
    "    average_height = filtered_buildings['building:levels'].mean(skipna=True)\n",
    "    \n",
    "    return average_height\n",
    "\n",
    "try:\n",
    "    average_building_height = calculate_average_building_height(buildings)\n",
    "    print(f\"Средняя высота зданий: {average_building_height:.2f} этажей\")\n",
    "except ValueError as e:\n",
    "    print(e)"
   ]
  },
  {
   "cell_type": "markdown",
   "metadata": {},
   "source": [
    "Площадь зеленых зон"
   ]
  },
  {
   "cell_type": "code",
   "execution_count": 8,
   "metadata": {},
   "outputs": [
    {
     "name": "stdout",
     "output_type": "stream",
     "text": [
      "Доля озеленения: 9.31%\n"
     ]
    }
   ],
   "source": [
    "import geopandas as gpd\n",
    "\n",
    "def calculate_green_ratio(green, boundary):\n",
    "\n",
    "    green_union = green.unary_union\n",
    "    boundary_polygon = boundary.unary_union\n",
    "    green_area_within_boundary = green_union.intersection(boundary_polygon).area\n",
    "    boundary_area = boundary_polygon.area\n",
    "    green_ratio = green_area_within_boundary / boundary_area\n",
    "\n",
    "    return green_ratio\n",
    "\n",
    "green_ratio = calculate_green_ratio(green, boundary)\n",
    "print(f\"Доля озеленения: {green_ratio:.2%}\")\n"
   ]
  }
 ],
 "metadata": {
  "kernelspec": {
   "display_name": "Python 3",
   "language": "python",
   "name": "python3"
  },
  "language_info": {
   "codemirror_mode": {
    "name": "ipython",
    "version": 3
   },
   "file_extension": ".py",
   "mimetype": "text/x-python",
   "name": "python",
   "nbconvert_exporter": "python",
   "pygments_lexer": "ipython3",
   "version": "3.11.9"
  }
 },
 "nbformat": 4,
 "nbformat_minor": 2
}
